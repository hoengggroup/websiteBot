{
    "metadata": {
        "kernelspec": {
            "name": "SQL",
            "display_name": "SQL",
            "language": "sql"
        },
        "language_info": {
            "name": "sql",
            "version": ""
        }
    },
    "nbformat_minor": 2,
    "nbformat": 4,
    "cells": [
        {
            "cell_type": "markdown",
            "source": [
                "# Setup of New Database\r\n",
                "\r\n",
                "You might need to run some or all of the commands in these instructions with ```sudo``` or administrative privileges.\\\r\n",
                "These instructions assume that a version of PostgreSQL is already installed on the system by whatever method.\r\n",
                "\r\n",
                "## Preparation\r\n",
                "\r\n",
                "1. macOS: none\r\n",
                "\r\n",
                "2. Windows: none\r\n",
                "\r\n",
                "3. RPI:\r\n",
                "        \r\n",
                "    1. Make sure that the SSH client used to interact with the Raspberry Pi does not set conflicting environment variables (especially locale, as these settings are read by PostgreSQL when creating a new cluster). To do this, comment out the relevent lines in ```/etc/ssh/ssh_config```.\r\n",
                "\r\n",
                "    2. To be sure, set system-wide locale again using ```raspi-config```.\r\n",
                "\r\n",
                "    3. Reboot the RPI and restart the SSH connection.\r\n",
                "\r\n",
                "## Creating a new database cluster\r\n",
                "\r\n",
                "Do so ideally in either any of the the git-ignored folders (```websiteBot/postgresql_database/```, ```websiteBot/db/```, ```websiteBot/db_data/```) or any folder not within the websiteBot project.\r\n",
                "\r\n",
                "1. macOS: Use the PostgreSQL tool initdb: ```initdb -D {path to db folder}```\\\r\n",
                "   *Note: The default user and owner will be the current user.*\r\n",
                "\r\n",
                "2. Windows: Use the PostgreSQL tool initdb: ```cd``` to your \"db\" folder, make a subfolder \"db_data\" and execute: ```^\"C^:^/Program^ Files^/PostgreSQL^/12^/bin^/initdb^\" -D db_data```\\\r\n",
                "   *Note: The default user and owner will be the current user.*\r\n",
                "\r\n",
                "3. RPI: Use the PostgreSQL tool pg_createcluster: ```pg_createcluster {postrgesql version} {cluster/config name} -d {path to db folder}```\\\r\n",
                "   *Note: The default user and owner will be ```postgres```.*\r\n",
                "\r\n",
                "## Starting the database cluster server\r\n",
                "\r\n",
                "1. macOS: Use the PostgreSQL tool pg_ctl (with optional logging): ```pg_ctl -D {path to db folder} [-l {path to logfile}] start```\\\r\n",
                "   *Note: to bind to a specific IP, use: ```pg_ctl -D {path to db folder} start [-l {path to logfile}] -o \"-i -h 192.168.1.1\"```.*\r\n",
                "\r\n",
                "2. Windows: Use the PostgreSQL tool pg_ctl (with optional logging): ```^\"C^:^/Program^ Files^/PostgreSQL^/12^/bin^/pg^_ctl^\" -D db_data [-l {path to logfile}] start```\r\n",
                "\r\n",
                "3. RPI:\r\n",
                "\r\n",
                "    1. In the file ```/etc/postgresql/{postrgesql version}/{cluster/config name}/postgresql.conf``` edit the following:\\\r\n",
                "       Uncomment ```listen_addresses``` and set to localhost and IPv4 address or set just to * as an easier option.\\\r\n",
                "       Change ```data_directory``` to ```{path to db folder}```.\r\n",
                "\r\n",
                "    2. In the file ```/etc/postgresql/{postrgesql version}/{cluster/config name}/pg_hba.conf``` edit the following:\\\r\n",
                "       Change incoming IP whitelist to IPs in own subnet, e.g. ```host  all  all  192.168.1.1/24  md5```.\r\n",
                "\r\n",
                "    3. To start the server use:\r\n",
                "\r\n",
                "        1. Just for manual debugging: ```pg_ctlcluster {postrgesql version} {cluster/config name} start```\r\n",
                "\r\n",
                "        2. Actual startup: ```systemctl start postgresql@{postrgesql version}-{cluster/config name}.service```\r\n",
                "\r\n",
                "## Creating the new database ```websitebot_db``` within the cluster\r\n",
                "\r\n",
                "1. macOS: ```createdb websitebot_db```\r\n",
                "\r\n",
                "2. Windows: ```^\"C^:^/Program^ Files^/PostgreSQL^/12^/bin^/createdb\" websitebot_db```\r\n",
                "\r\n",
                "3. RPI: ```createdb websitebot_db```\r\n",
                "\r\n",
                "## Connecting to the database\r\n",
                "\r\n",
                "1. Connect to the database in Azure Data Studio. Be sure to fill out the field \"active database\" with ```websitebot_db```.\\\r\n",
                "   *Note: Connecting via Azure from a Unix/Windows machine to a running cluster server on an RPI via SSH is only possible if a password for the database user is set. This is because PostgreSQL can use peer authentication (i.e. \"check the credentials of the currently logged in system user against the database users\") only on local (i.e. localhost) connections. On top of this, the default user on the RPI when creating a new cluster is ```postgres```, so peer authentication would not work in any case. To work around this, set a password for the user ```postgres``` using ```ALTER USER postgres WITH PASSWORD '{password}';``` (do not omit the two single quote marks around the password) in the ```psql``` shell on the RPI before connecting via Azure.*\r\n",
                "\r\n",
                "2. Via the ```psql``` shell: ```psql websitebot_db -U {username}```\\\r\n",
                "   *Note: replace ```{username}``` with the active shell login name (i.e. the user which issued the first ```initdb``` command) or - if the ```initdb``` command was issued with a ```-U {username}``` flag - the name of that user (the standard for this is ```postgres```).*\\\r\n",
                "   *Note: On RPI, instead of setting the ```-U``` flag, you usually have to switch to the \"service user\" of PostgreSQL with ```su postgres``` beforehand and then just issue ```psql websitebot_db```.*\\\r\n",
                "   If the login does not work (cannot ```su``` or ```-U``` to user that owns the database, no prompt for password appears, connection fails due to unsuccessful peer authentication (e.g. when using ssh on a remote system), etc.) use this long-form login pattern: ```psql \"postgresql://{username}:{password}@{database server location}/{database name}\"```\\\r\n",
                "   *Note: ```{database server location}``` is not the ```{cluster/config name}``` but the actual network location, e.g. ```localhost```.*\r\n",
                "\r\n",
                "   Useful commands in the ```psql``` shell:\r\n",
                "   | command | description |\r\n",
                "   | ------- | ----------- |\r\n",
                "   | ```\\d  (\\d+) {tablename}``` | list all columns and their data types in the given table (```+``` = more info) |\r\n",
                "   | ```\\dt (\\dt+)```            | list all relations (i.e. tables) (```+``` = more info) |\r\n",
                "   | ```\\du (\\du+)```            | list all users (```+``` = more info) |\r\n",
                "   | ```\\l  (\\l+)```             | list all databases in the current logged in cluster (```+``` = more info) |\r\n",
                "   | ```\\t```                    | toggle display of column headers in outputs |\r\n",
                "   | ```\\pset format wrapped```  | set the columns to a fixed display width (text wraps around within column width) |\r\n",
                "   | ```\\q```                    | exit shell |\r\n",
                "\r\n",
                "## Executing the commands in this notebook\r\n",
                "\r\n",
                "This builds the correct structure of our ```websitebot_db``` database reliably.\r\n",
                "\r\n",
                "1. Azure Data Studio: Just attach the notebook to the PostgreSQL connection and execute each cell one after the other. (As noted at the end of the notebook once more: Remember to \"Clear Results\" after finishing for a clean notebook file.)\r\n",
                "\r\n",
                "2. ```psql``` shell: Copy and execute each command (i.e. until the next semicolon; linebreaks within one command should be copied as well) one after the other, regardless of cells.\r\n",
                "\r\n",
                "## Stopping the database cluster server\r\n",
                "\r\n",
                "1. macOS: Use the PostgreSQL tool pg_ctl: ```pg_ctl -D {path to db folder} stop```  \r\n",
                "\r\n",
                "2. Windows: Use the PostgreSQL tool pg_ctl: ```^\"C^:^/Program^ Files^/PostgreSQL^/12^/bin^/pg^_ctl^\" -D db_data stop```\\\r\n",
                "   __TODO: is it true that there is another way on Windows if this fails?__\r\n",
                "\r\n",
                "3. RPI:\r\n",
                "\r\n",
                "    1. In case of manual debugging: ```pg_ctlcluster {postrgesql version} {cluster/config name} stop```\r\n",
                "\r\n",
                "    2. In case of actual startup: ```systemctl stop postgresql@{postrgesql version}-{cluster/config name}.service```\\\r\n",
                "       *Note: To restart the server, use ```systemctl restart postgresql@{postrgesql version}-{cluster/config name}.service```, and to check its current status, use ```systemctl status postgresql@{postrgesql version}-{cluster/config name}.service```.*\r\n",
                "\r\n",
                "## Deleting the database cluster\r\n",
                "\r\n",
                "In case you need to start again, first make sure that the server and any services (RPI) are stopped correctly.\r\n",
                "\r\n",
                "1. macOS: Just delete the ```{path to db folder}``` directory after checking that everything is stopped.\r\n",
                "\r\n",
                "2. Windows: Just delete the ```{path to db folder}``` directory after checking that everything is stopped.\r\n",
                "\r\n",
                "3. RPI: First remove the folder ```/etc/postgresql/{postrgesql version}/{cluster/config name}/``` and then delete the ```{path to db folder}``` directory, both after checking that everything is stopped."
            ],
            "metadata": {
                "azdata_cell_guid": "581290e7-eed3-4e98-a7c0-c14acd65fffa"
            }
        },
        {
            "cell_type": "code",
            "source": [
                "CREATE TABLE credentials (\r\n",
                "\tbot_name VARCHAR (32) NOT NULL UNIQUE,\r\n",
                "\ttoken VARCHAR (128) NOT NULL\r\n",
                ");\r\n",
                "\r\n",
                "INSERT INTO credentials (bot_name, token) VALUES ('websiteBot_bot', '***REMOVED***');\r\n",
                "INSERT INTO credentials (bot_name, token) VALUES ('websiteBotShortTests_bot', '***REMOVED***');"
            ],
            "metadata": {
                "azdata_cell_guid": "3c2d581d-2583-42ab-9e13-ba6884bdccb2",
                "tags": []
            },
            "outputs": [],
            "execution_count": null
        },
        {
            "cell_type": "code",
            "source": [
                "CREATE TABLE users (\r\n",
                "\ttg_id BIGINT NOT NULL UNIQUE,\r\n",
                "\tstatus SMALLINT DEFAULT 2,\r\n",
                "\tfirst_name VARCHAR (64) NOT NULL,\r\n",
                "\tlast_name VARCHAR (64),\r\n",
                "\tusername VARCHAR (64),\r\n",
                "\tapply_name VARCHAR (4096),\r\n",
                "\tapply_text VARCHAR (4096),\r\n",
                "\tapply_date DATE NOT NULL\r\n",
                ");\r\n",
                "\r\n",
                "INSERT INTO users (tg_id, status, first_name, last_name, username, apply_name, apply_text, apply_date) VALUES (***REMOVED***, 0, 'Niklas', 'Bogensperger', 'root', NULL, NULL, NOW());\r\n",
                "INSERT INTO users (tg_id, status, first_name, last_name, username, apply_name, apply_text, apply_date) VALUES (***REMOVED***, 0, 'Tassilo', 'Schwarz', 'root', NULL, NULL, NOW());"
            ],
            "metadata": {
                "azdata_cell_guid": "37b60c60-6548-4d9a-8695-c3e5ec534146"
            },
            "outputs": [],
            "execution_count": null
        },
        {
            "cell_type": "code",
            "source": [
                "CREATE TABLE websites (\r\n",
                "\tws_id SERIAL PRIMARY KEY,\r\n",
                "\tws_name VARCHAR(64) NOT NULL UNIQUE,\r\n",
                "\turl VARCHAR (2083) NOT NULL UNIQUE,\r\n",
                "\ttime_sleep SMALLINT NOT NULL,\r\n",
                "\tlast_time_checked TIMESTAMP(6) WITHOUT TIME ZONE NOT NULL,\r\n",
                "\tlast_time_updated TIMESTAMP(6) WITHOUT TIME ZONE NOT NULL,\r\n",
                "\tlast_error_msg TEXT,\r\n",
                "\tlast_error_time TIMESTAMP(6) WITHOUT TIME ZONE,\r\n",
                "\tlast_hash VARCHAR(32)\r\n",
                ");"
            ],
            "metadata": {
                "azdata_cell_guid": "1bcb888e-d7a0-45a2-9634-f5cc03121c68",
                "tags": []
            },
            "outputs": [],
            "execution_count": null
        },
        {
            "cell_type": "code",
            "source": [
                "CREATE TABLE websites_content (\r\n",
                "\tws_id INT NOT NULL,\r\n",
                "\tlast_time_updated TIMESTAMP(6) WITHOUT TIME ZONE NOT NULL,\r\n",
                "\tlast_hash VARCHAR(32),\r\n",
                "\tlast_content TEXT,\r\n",
                "\tCONSTRAINT foreign_website FOREIGN KEY (ws_id) REFERENCES websites(ws_id) ON DELETE CASCADE,\r\n",
                "\tPRIMARY KEY (ws_id, last_time_updated)\r\n",
                ");"
            ],
            "metadata": {
                "azdata_cell_guid": "fbd30bbf-5955-4220-ada5-171bf4dd8f0a"
            },
            "outputs": [],
            "execution_count": null
        },
        {
            "cell_type": "code",
            "source": [
                "CREATE TABLE subscriptions (\r\n",
                "\tws_id INTEGER NOT NULL,\r\n",
                "\ttg_id BIGINT NOT NULL,\r\n",
                "\tUNIQUE(ws_id, tg_id),\r\n",
                "    CONSTRAINT foreign_usr FOREIGN KEY (tg_id) REFERENCES users(tg_id) ON DELETE CASCADE,\r\n",
                "    CONSTRAINT foreign_website FOREIGN KEY (ws_id) REFERENCES websites(ws_id) ON DELETE CASCADE\r\n",
                ");"
            ],
            "metadata": {
                "azdata_cell_guid": "3ac9fcd3-d679-40f6-935c-b249ecdc382d",
                "tags": []
            },
            "outputs": [],
            "execution_count": null
        },
        {
            "cell_type": "code",
            "source": [
                "CREATE USER websitebot;\r\n",
                "GRANT ALL PRIVILEGES ON ALL TABLES IN SCHEMA public TO websitebot;\r\n",
                "GRANT USAGE, SELECT ON ALL SEQUENCES IN SCHEMA public TO websitebot;\r\n",
                "ALTER USER websitebot WITH PASSWORD 'webSiteBotPostGresQL';"
            ],
            "metadata": {
                "azdata_cell_guid": "937e919b-e5d3-46ec-adb2-394d12ee9f7d",
                "tags": []
            },
            "outputs": [],
            "execution_count": null
        },
        {
            "cell_type": "markdown",
            "source": [
                "__Remember to \"Clear Results\" after finishing for a clean file ;)__"
            ],
            "metadata": {
                "azdata_cell_guid": "30277847-b9ff-469b-bbc1-f72d2d56f892"
            }
        }
    ]
}